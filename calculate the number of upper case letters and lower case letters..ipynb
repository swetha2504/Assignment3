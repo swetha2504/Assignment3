{
 "cells": [
  {
   "cell_type": "code",
   "execution_count": 1,
   "id": "64764bc9",
   "metadata": {},
   "outputs": [
    {
     "name": "stdout",
     "output_type": "stream",
     "text": [
      "eter the value\"﻿The quick Brow Fox\"\n"
     ]
    }
   ],
   "source": [
    "str=eval(input(\"eter the value\"))\n"
   ]
  },
  {
   "cell_type": "code",
   "execution_count": 10,
   "id": "744e74ac",
   "metadata": {},
   "outputs": [
    {
     "name": "stdout",
     "output_type": "stream",
     "text": [
      "﻿The quick Brow Fox\n"
     ]
    }
   ],
   "source": [
    "print(str)\n"
   ]
  },
  {
   "cell_type": "code",
   "execution_count": 38,
   "id": "692d7b79",
   "metadata": {},
   "outputs": [
    {
     "name": "stdout",
     "output_type": "stream",
     "text": [
      "Original String :  The quick Brow Fox\n",
      "No. of Upper case characters :  3\n",
      "No. of Lower case Characters :  12\n"
     ]
    }
   ],
   "source": [
    "def string_rev(str):\n",
    "    lower,upper=0,0\n",
    "    for i in str:\n",
    "            if i.isupper():\n",
    "                upper+=1\n",
    "            elif i.islower():\n",
    "                lower+=1\n",
    "            else:\n",
    "                pass\n",
    "    print (\"Original String : \", str)\n",
    "    print (\"No. of Upper case characters : \", upper)\n",
    "    print (\"No. of Lower case Characters : \", lower)\n",
    "        \n",
    "string_rev(str)     \n",
    "\n",
    "        "
   ]
  },
  {
   "cell_type": "code",
   "execution_count": null,
   "id": "d75f8873",
   "metadata": {},
   "outputs": [],
   "source": []
  },
  {
   "cell_type": "code",
   "execution_count": null,
   "id": "47b8ea8e",
   "metadata": {},
   "outputs": [],
   "source": []
  }
 ],
 "metadata": {
  "kernelspec": {
   "display_name": "Python 3 (ipykernel)",
   "language": "python",
   "name": "python3"
  },
  "language_info": {
   "codemirror_mode": {
    "name": "ipython",
    "version": 3
   },
   "file_extension": ".py",
   "mimetype": "text/x-python",
   "name": "python",
   "nbconvert_exporter": "python",
   "pygments_lexer": "ipython3",
   "version": "3.10.9"
  }
 },
 "nbformat": 4,
 "nbformat_minor": 5
}
