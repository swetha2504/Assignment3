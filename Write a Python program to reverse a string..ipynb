{
 "cells": [
  {
   "cell_type": "code",
   "execution_count": 3,
   "id": "b679464a",
   "metadata": {},
   "outputs": [
    {
     "name": "stdout",
     "output_type": "stream",
     "text": [
      "enter the value\"1234abcd\"\n"
     ]
    }
   ],
   "source": [
    "a=eval(input(\"enter the value\"))\n"
   ]
  },
  {
   "cell_type": "code",
   "execution_count": 4,
   "id": "fc2cff43",
   "metadata": {},
   "outputs": [
    {
     "name": "stdout",
     "output_type": "stream",
     "text": [
      "1234abcd\n"
     ]
    }
   ],
   "source": [
    "print(a)\n"
   ]
  },
  {
   "cell_type": "code",
   "execution_count": 5,
   "id": "d8f4f893",
   "metadata": {},
   "outputs": [
    {
     "data": {
      "text/plain": [
       "'dcba4321'"
      ]
     },
     "execution_count": 5,
     "metadata": {},
     "output_type": "execute_result"
    }
   ],
   "source": [
    "a[::-1]"
   ]
  },
  {
   "cell_type": "code",
   "execution_count": 11,
   "id": "4409314d",
   "metadata": {},
   "outputs": [
    {
     "name": "stdout",
     "output_type": "stream",
     "text": [
      "enter the value\"1234abcd\"\n",
      "sample string before:  1234abcd\n",
      "sample string after  : dcba4321\n"
     ]
    }
   ],
   "source": [
    "def reverse(str):\n",
    "    str=str[::-1]\n",
    "    return str\n",
    "a=eval(input(\"enter the value\"))\n",
    "print(\"sample string before: \",a)\n",
    "\n",
    "print(\"sample string after  :\",reverse(a))"
   ]
  },
  {
   "cell_type": "code",
   "execution_count": 8,
   "id": "7c5f3c4f",
   "metadata": {},
   "outputs": [
    {
     "name": "stdout",
     "output_type": "stream",
     "text": [
      "enter the value\"1234abcd\"\n",
      "sample string before:  1234abcd\n",
      "sample string after  : dcba4321\n"
     ]
    }
   ],
   "source": [
    " a=eval(input(\"enter the value\"))\n",
    "print(\"sample string before: \",a)\n",
    "print(\"sample string after  :\",end=' ')\n",
    "for char in reversed(a):\n",
    "\n",
    "        print(char, end=\"\")\n",
    "print()        "
   ]
  },
  {
   "cell_type": "code",
   "execution_count": null,
   "id": "afe67b6b",
   "metadata": {},
   "outputs": [],
   "source": []
  }
 ],
 "metadata": {
  "kernelspec": {
   "display_name": "Python 3 (ipykernel)",
   "language": "python",
   "name": "python3"
  },
  "language_info": {
   "codemirror_mode": {
    "name": "ipython",
    "version": 3
   },
   "file_extension": ".py",
   "mimetype": "text/x-python",
   "name": "python",
   "nbconvert_exporter": "python",
   "pygments_lexer": "ipython3",
   "version": "3.10.9"
  }
 },
 "nbformat": 4,
 "nbformat_minor": 5
}
